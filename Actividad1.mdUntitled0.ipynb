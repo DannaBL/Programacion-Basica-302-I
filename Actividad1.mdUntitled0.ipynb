{
  "nbformat": 4,
  "nbformat_minor": 0,
  "metadata": {
    "colab": {
      "provenance": [],
      "authorship_tag": "ABX9TyOpVnnw6ryy6iGxDOfbijVQ",
      "include_colab_link": true
    },
    "kernelspec": {
      "name": "python3",
      "display_name": "Python 3"
    },
    "language_info": {
      "name": "python"
    }
  },
  "cells": [
    {
      "cell_type": "markdown",
      "metadata": {
        "id": "view-in-github",
        "colab_type": "text"
      },
      "source": [
        "<a href=\"https://colab.research.google.com/github/DannaBL/Programacion-Basica-302-I/blob/main/Actividad1.mdUntitled0.ipynb\" target=\"_parent\"><img src=\"https://colab.research.google.com/assets/colab-badge.svg\" alt=\"Open In Colab\"/></a>"
      ]
    },
    {
      "cell_type": "markdown",
      "source": [
        "PB302_2.cpp Programa para imprimir datos personales"
      ],
      "metadata": {
        "id": "RJUe8An8q59K"
      }
    },
    {
      "cell_type": "code",
      "execution_count": 21,
      "metadata": {
        "colab": {
          "base_uri": "https://localhost:8080/"
        },
        "id": "zO0C4QVXqlxO",
        "outputId": "0fedd02e-43f9-41ce-b85e-861b80370348"
      },
      "outputs": [
        {
          "output_type": "stream",
          "name": "stdout",
          "text": [
            "Overwriting PB302_2.cpp\n"
          ]
        }
      ],
      "source": [
        "%%writefile PB302_2.cpp\n",
        "//Programa para Mostrar datos personales\n",
        "//Creado por Danna Bonilla Loppez Danna\n",
        "//Fecha:18/Septiembre/2025\n",
        "//PB302_2.cpp\n",
        "#include <iostream>\n",
        "using namespace std;\n",
        "int main()\n",
        "{\n",
        "  char nombre[10]=\"Danna\";\n",
        "  char paterno[8]=\"Bonilla\";\n",
        "  char materno[8]=\"López\";\n",
        "  int edad=15;\n",
        "  char direccion[50]=\"Plutarco Elias Calles\";\n",
        "  char fechanac[20]=\"30/Diciembre/2009\";\n",
        "  char ciudadnac[20]=\"cd. Juarez\";\n",
        "  cout<<\"Tu Nombre Completo es:\\n\";\n",
        "  cout<<nombre<<\"\\n\";\n",
        "  cout<<paterno<<\"\\n\";\n",
        "  cout<<materno<<\"\\n\";\n",
        "  cout<<edad<<\"\\n\";\n",
        "  cout<<direccion<<\"\\n\";\n",
        "  cout<<fechanac<<\"\\n\";\n",
        "  cout<<ciudadnac<<\"\\n\";\n",
        "  return 0;\n",
        "}"
      ]
    },
    {
      "cell_type": "code",
      "source": [
        "!g++ PB302_2.cpp -o PB302_2.exe\n",
        "!./PB302_2.exe"
      ],
      "metadata": {
        "colab": {
          "base_uri": "https://localhost:8080/"
        },
        "id": "DQj2HDGGwlEx",
        "outputId": "40857b49-f87e-40d7-9d0e-b04fec8a5d57"
      },
      "execution_count": 22,
      "outputs": [
        {
          "output_type": "stream",
          "name": "stdout",
          "text": [
            "Tu Nombre Completo es:\n",
            "Danna\n",
            "Bonilla\n",
            "López\n",
            "15\n",
            "Plutarco Elias Calles\n",
            "30/Diciembre/2009\n",
            "cd. Juarez\n"
          ]
        }
      ]
    }
  ]
}