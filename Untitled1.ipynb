{
  "nbformat": 4,
  "nbformat_minor": 0,
  "metadata": {
    "colab": {
      "provenance": [],
      "authorship_tag": "ABX9TyMqCphHKH8jFuU6BMpCDt6i",
      "include_colab_link": true
    },
    "kernelspec": {
      "name": "python3",
      "display_name": "Python 3"
    },
    "language_info": {
      "name": "python"
    }
  },
  "cells": [
    {
      "cell_type": "markdown",
      "metadata": {
        "id": "view-in-github",
        "colab_type": "text"
      },
      "source": [
        "<a href=\"https://colab.research.google.com/github/DannaBL/Programacion-Basica-302-I/blob/main/Untitled1.ipynb\" target=\"_parent\"><img src=\"https://colab.research.google.com/assets/colab-badge.svg\" alt=\"Open In Colab\"/></a>"
      ]
    },
    {
      "cell_type": "markdown",
      "source": [
        "PB30?_.7- Realizar un programa que permita definir 3 variables de tipo caracter (char [ ]), en la primer variable capturaras desde teclado tu nombre, en la segunda variable capturaras desde teclado tu paterno y en la tercer variable capturaras desde teclado tu materno para mostrar en pantalla la longitud de caracteres que tiene cada variable capturada."
      ],
      "metadata": {
        "id": "8fjyiVl21wgd"
      }
    },
    {
      "cell_type": "code",
      "execution_count": 2,
      "metadata": {
        "colab": {
          "base_uri": "https://localhost:8080/"
        },
        "id": "PbPL0N3azSmJ",
        "outputId": "939f4dd7-5fc8-428a-d1a7-3c624021110e"
      },
      "outputs": [
        {
          "output_type": "stream",
          "name": "stdout",
          "text": [
            "Overwriting PB302_7.cpp\n"
          ]
        }
      ],
      "source": [
        "%%writefile PB302_7.cpp\n",
        "//programa para detallar 3 variables desde teclado\n",
        "//creado Danna Bonilla López\n",
        "//fecha:02/oct/25\n",
        "//PB302_7.cpp\n",
        "#include <iostream>\n",
        "#include <string.h>\n",
        "using namespace std;\n",
        "int main()\n",
        "{\n",
        "  char nombre [20];\n",
        "  char paterno [20];\n",
        "  char materno [20];\n",
        "  cout <<\"ingresa tu nombre: \";\n",
        "  cin>>nombre; //captura desde teclado\n",
        "  cout<<\"Tu nombre es \\t\"<<nombre<<\"\\n\";\n",
        "  cout<<\"ingresa tu paterno: \";\n",
        "  cin>>paterno; //captura desde teclado\n",
        "  cout<<\"Tu paterno es \\t\"<<paterno<<\"\\n\";\n",
        "   cout<<\"ingresa tu materno: \";\n",
        "  cin>>materno; //captura desde teclado\n",
        "  cout<<\"Tu materno es \\t\"<<materno<<\"\\n\";\n",
        "  cout<<\"la longitud de tu nombre es\\t\"<<strlen(nombre)<<\"\\n\";\n",
        "   cout<<\"la longitud de tu paterno es\\t\"<<strlen(paterno)<<\"\\n\";\n",
        " cout<<\"la longitud de tu materno es\\t\"<<strlen(materno)<<\"\\n\";\n",
        "\n",
        "\n",
        "\n",
        "  return 0;\n",
        "}"
      ]
    },
    {
      "cell_type": "code",
      "source": [
        "!g++ PB302_7.cpp -o PB302_7.exe\n",
        "!./PB302_7.exe"
      ],
      "metadata": {
        "colab": {
          "base_uri": "https://localhost:8080/"
        },
        "id": "KEKxdchr3gCz",
        "outputId": "9c7f351c-303b-4c63-9e19-f08e33fbe16e"
      },
      "execution_count": 3,
      "outputs": [
        {
          "output_type": "stream",
          "name": "stdout",
          "text": [
            "ingresa tu nombre: Danna\n",
            "Tu nombre es \tDanna\n",
            "ingresa tu paterno: Bonilla\n",
            "Tu paterno es \tBonilla\n",
            "ingresa tu materno: López\n",
            "Tu materno es \tLópez\n",
            "la longitud de tu nombre es\t5\n",
            "la longitud de tu paterno es\t7\n",
            "la longitud de tu materno es\t6\n"
          ]
        }
      ]
    },
    {
      "cell_type": "markdown",
      "source": [
        "PB30?_8  .- Realizar un programa que permita definir y capturar 5 variables de tipo caracter (char [ ]) y calcule la longitud de cada una de ellas en 5 variables enteras, posteriormente en una variable entera llamada total_de_letras calculará la suma de las longitudes de las 5 variables capturadas.\n",
        "\n",
        "Prueba de Escritorio  \n",
        "Captura la palabra 1 Ana  \n",
        "Captura la palabra 2 Barbara  \n",
        "Captura la palabra 3 Carlos  \n",
        "Captura la palabra 4 Daniel  \n",
        "Captura la palabra 5 Ernesto  \n",
        "\n",
        "La palabra 1 tiene 3 letras  \n",
        "La palabra 2 tiene 7 letras  \n",
        "La palabra 3 tiene 6 letras  \n",
        "La palabra 4 tiene 6 letras  \n",
        "La palabra 5 tiene 7 letras  \n",
        "La suma de las letras de las 5 palabras es 29"
      ],
      "metadata": {
        "id": "Uu1Ptq6L6Mdo"
      }
    },
    {
      "cell_type": "code",
      "source": [
        "%%writefile PB302_8.cpp\n",
        "//programa para detallar 3 variables desde teclado\n",
        "//creado Danna Bonilla López\n",
        "//fecha:02/oct/25\n",
        "//PB302_8.cpp\n",
        "#include <iostream>\n",
        "#include <string.h>\n",
        "using namespace std;\n",
        "int main()\n",
        "{\n",
        "  char palabra1[20];\n",
        "  char palabra2[20];\n",
        "  char palabra3[20];\n",
        "  char palabra4[20];\n",
        "  char palabra5[20];\n",
        "  cout<<\"captura la palabra 1:\";\n",
        "  cin>>palabra1;\n",
        "  cout<<\"captura la palabra 2:\";\n",
        "  cin>>palabra2;\n",
        "  cout<<\"captura la palabra 3:\";\n",
        "  cin>>palabra3;\n",
        "cout<<\"captura la palabra 4:\";\n",
        "  cin>>palabra4;\n",
        "  cout<<\"captura la palabra 5:\";\n",
        "  cin>>palabra5;\n",
        "  cout<<\"la palabra 1 tiene\"<<strlen(palabra1)<<\"letras\\n\";\n",
        "  cout<<\"la palabra 2 tiene\"<<strlen(palabra2)<<\"letras\\n\";\n",
        "  cout<<\"la palabra 3 tiene\"<<strlen(palabra3)<<\"letras\\n\";\n",
        "  cout<<\"la palabra 4 tiene\"<<strlen(palabra4)<<\"letras\\n\";\n",
        "  cout<<\"la palabra 5 tiene\"<<strlen(palabra5)<<\"letras\\n\";\n",
        "\n",
        "  cout<<\"la suma de las letras de las 5 palabras es \\t\";\n",
        "  cout<<strlen(palabra1)+strlen(palabra2)+strlen(palabra3)+strlen(palabra4)+strlen(palabra5)<<\"\\n\";\n",
        "  return 0;\n",
        "}"
      ],
      "metadata": {
        "colab": {
          "base_uri": "https://localhost:8080/"
        },
        "id": "RK0WceJq6rBn",
        "outputId": "7052f952-c85e-4b7d-d689-122dd567be81"
      },
      "execution_count": 4,
      "outputs": [
        {
          "output_type": "stream",
          "name": "stdout",
          "text": [
            "Writing PB302_8.cpp\n"
          ]
        }
      ]
    },
    {
      "cell_type": "code",
      "source": [
        "!g++ PB302_8.cpp -o PB302_8.exe\n",
        "!./PB302_8.exe"
      ],
      "metadata": {
        "colab": {
          "base_uri": "https://localhost:8080/"
        },
        "id": "G8BTfDm4_v6S",
        "outputId": "0be0f2c3-b119-4631-8ce7-4e68a497a0fa"
      },
      "execution_count": 5,
      "outputs": [
        {
          "output_type": "stream",
          "name": "stdout",
          "text": [
            "captura la palabra 1:Blanco\n",
            "captura la palabra 2:Negro\n",
            "captura la palabra 3:Rosa\n",
            "captura la palabra 4:Amarillo\n",
            "captura la palabra 5:Azul\n",
            "la palabra 1 tiene6letras\n",
            "la palabra 2 tiene5letras\n",
            "la palabra 3 tiene4letras\n",
            "la palabra 4 tiene8letras\n",
            "la palabra 5 tiene4letras\n",
            "la suma de las letras de las 5 palabras es \t27\n"
          ]
        }
      ]
    },
    {
      "cell_type": "code",
      "source": [],
      "metadata": {
        "id": "SW-1nF6J_2p0"
      },
      "execution_count": null,
      "outputs": []
    }
  ]
}