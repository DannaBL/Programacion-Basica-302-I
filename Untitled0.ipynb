{
  "nbformat": 4,
  "nbformat_minor": 0,
  "metadata": {
    "colab": {
      "provenance": [],
      "authorship_tag": "ABX9TyPdZr2RwS2klG5FpEsJfdtQ",
      "include_colab_link": true
    },
    "kernelspec": {
      "name": "python3",
      "display_name": "Python 3"
    },
    "language_info": {
      "name": "python"
    }
  },
  "cells": [
    {
      "cell_type": "markdown",
      "metadata": {
        "id": "view-in-github",
        "colab_type": "text"
      },
      "source": [
        "<a href=\"https://colab.research.google.com/github/DannaBL/Programacion-Basica-302-I/blob/main/Untitled0.ipynb\" target=\"_parent\"><img src=\"https://colab.research.google.com/assets/colab-badge.svg\" alt=\"Open In Colab\"/></a>"
      ]
    },
    {
      "cell_type": "markdown",
      "source": [
        "PB302_2.cpp Programa para imprimir datos personales"
      ],
      "metadata": {
        "id": "RJUe8An8q59K"
      }
    },
    {
      "cell_type": "code",
      "execution_count": null,
      "metadata": {
        "colab": {
          "base_uri": "https://localhost:8080/"
        },
        "id": "zO0C4QVXqlxO",
        "outputId": "0fedd02e-43f9-41ce-b85e-861b80370348"
      },
      "outputs": [
        {
          "output_type": "stream",
          "name": "stdout",
          "text": [
            "Overwriting PB302_2.cpp\n"
          ]
        }
      ],
      "source": [
        "%%writefile PB302_2.cpp\n",
        "//Programa para Mostrar datos personales\n",
        "//Creado por Danna Bonilla Loppez Danna\n",
        "//Fecha:18/Septiembre/2025\n",
        "//PB302_2.cpp\n",
        "#include <iostream>\n",
        "using namespace std;\n",
        "int main()\n",
        "{\n",
        "  char nombre[10]=\"Danna\";\n",
        "  char paterno[8]=\"Bonilla\";\n",
        "  char materno[8]=\"López\";\n",
        "  int edad=15;\n",
        "  char direccion[50]=\"Plutarco Elias Calles\";\n",
        "  char fechanac[20]=\"30/Diciembre/2009\";\n",
        "  char ciudadnac[20]=\"cd. Juarez\";\n",
        "  cout<<\"Tu Nombre Completo es:\\n\";\n",
        "  cout<<nombre<<\"\\n\";\n",
        "  cout<<paterno<<\"\\n\";\n",
        "  cout<<materno<<\"\\n\";\n",
        "  cout<<edad<<\"\\n\";\n",
        "  cout<<direccion<<\"\\n\";\n",
        "  cout<<fechanac<<\"\\n\";\n",
        "  cout<<ciudadnac<<\"\\n\";\n",
        "  return 0;\n",
        "}"
      ]
    },
    {
      "cell_type": "code",
      "source": [
        "!g++ PB302_2.cpp -o PB302_2.exe\n",
        "!./PB302_2.exe"
      ],
      "metadata": {
        "colab": {
          "base_uri": "https://localhost:8080/"
        },
        "id": "DQj2HDGGwlEx",
        "outputId": "40857b49-f87e-40d7-9d0e-b04fec8a5d57"
      },
      "execution_count": null,
      "outputs": [
        {
          "output_type": "stream",
          "name": "stdout",
          "text": [
            "Tu Nombre Completo es:\n",
            "Danna\n",
            "Bonilla\n",
            "López\n",
            "15\n",
            "Plutarco Elias Calles\n",
            "30/Diciembre/2009\n",
            "cd. Juarez\n"
          ]
        }
      ]
    },
    {
      "cell_type": "markdown",
      "source": [
        "PB302_2.CPP programa para imprimir 3 expectativas de clase"
      ],
      "metadata": {
        "id": "YRtjTruuai3n"
      }
    },
    {
      "cell_type": "code",
      "source": [
        "%%writefile PB302_3.cpp\n",
        "//Programa para Mostrar Expectativas de Clase\n",
        "//Creado por Danna Bonilla Lopez Danna\n",
        "//Fecha:19/Septiembre/2025\n",
        "//PB302_3.cpp\n",
        "#include <iostream>\n",
        "using namespace std;\n",
        "int main()\n",
        "{\n",
        "const std::string RED = \"\\033[31m\";\n",
        "const std::string GREEN = \"\\033[32m\";\n",
        "const std::string YELLOW= \"\\033[33m\";\n",
        "const std::string BLUE= \"\\033[34m\";\n",
        "const std::string MAGENTA= \"\\033[35m\";\n",
        "const std::string CYAN= \"\\033[36m\";\n",
        "const std::string WHITE= \"\\033[37m\";\n",
        "const std::string UNDERLINE= \"\\033[4m\";\n",
        "const std::string RESET=\"\\033[0m\";\n",
        "\n",
        "\n",
        "  char expectativa1 [20]=\"Más conocimiento\";\n",
        "  char expectativa2[30]=\"Desarrollar mis habilidades\";\n",
        "  char expectativa3[27]=\"Aprobar mis materias\";\n",
        "\n",
        "cout<<YELLOW<<\"Tus Expectativas son:\\n\";\n",
        "cout<<RED<<expectativa1<<\"\\n\";\n",
        "cout<<MAGENTA<<expectativa2<<\"\\n\";\n",
        "cout<<BLUE<<expectativa3<<\"\\n\";\n",
        "return 0;\n",
        "}"
      ],
      "metadata": {
        "colab": {
          "base_uri": "https://localhost:8080/"
        },
        "id": "JQxCe865Z84f",
        "outputId": "e662e2fe-ccf0-4444-e788-3ff2cd9f13c0"
      },
      "execution_count": 36,
      "outputs": [
        {
          "output_type": "stream",
          "name": "stdout",
          "text": [
            "Overwriting PB302_3.cpp\n"
          ]
        }
      ]
    },
    {
      "cell_type": "code",
      "source": [
        "!g++ PB302_3.cpp -o PB302_3.exe\n",
        "!./PB302_3.exe"
      ],
      "metadata": {
        "colab": {
          "base_uri": "https://localhost:8080/"
        },
        "id": "KG9igJmecgkW",
        "outputId": "a5c4e42f-f0e3-46f2-9596-118aac3bba06"
      },
      "execution_count": 37,
      "outputs": [
        {
          "output_type": "stream",
          "name": "stdout",
          "text": [
            "\u001b[33mTus Expectativas son:\n",
            "\u001b[31mMás conocimiento\n",
            "\u001b[35mDesarrollar mis habilidades\n",
            "\u001b[34mAprobar mis materias\n"
          ]
        }
      ]
    }
  ]
}