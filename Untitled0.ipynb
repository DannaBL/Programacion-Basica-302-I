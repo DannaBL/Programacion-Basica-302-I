{
  "nbformat": 4,
  "nbformat_minor": 0,
  "metadata": {
    "colab": {
      "provenance": [],
      "authorship_tag": "ABX9TyPgcE90yDYFl2YDu8F4+kYl",
      "include_colab_link": true
    },
    "kernelspec": {
      "name": "python3",
      "display_name": "Python 3"
    },
    "language_info": {
      "name": "python"
    }
  },
  "cells": [
    {
      "cell_type": "markdown",
      "metadata": {
        "id": "view-in-github",
        "colab_type": "text"
      },
      "source": [
        "<a href=\"https://colab.research.google.com/github/DannaBL/Programacion-Basica-302-I/blob/main/Untitled0.ipynb\" target=\"_parent\"><img src=\"https://colab.research.google.com/assets/colab-badge.svg\" alt=\"Open In Colab\"/></a>"
      ]
    },
    {
      "cell_type": "markdown",
      "source": [
        "PB302_1.cpp Programa de Bienvenida"
      ],
      "metadata": {
        "id": "uw-G76fg9YEF"
      }
    },
    {
      "cell_type": "code",
      "source": [
        "%%writefile PB302_1.cpp\n",
        "//Programa para dar la Bienvenida\n",
        "//Creado por Danna Bonilla Lopez Danna\n",
        "//Fecha:18/Septiembre/2025\n",
        "//PB302_1.cpp\n",
        "#include <iostream>\n",
        "using namespace std;\n",
        "int main()\n",
        "{\n",
        "  cout<<\"Bienvenida Danna a Peogramación Basica en c++\\n\";\n",
        "  cout<<\"Gracias por Programar en clase\";\n",
        "  return 0;\n",
        "}\n",
        "\n"
      ],
      "metadata": {
        "colab": {
          "base_uri": "https://localhost:8080/"
        },
        "id": "HvcAp5su9XdG",
        "outputId": "cb899b17-ec80-426e-e765-d89d9cd7aa4d"
      },
      "execution_count": null,
      "outputs": [
        {
          "output_type": "stream",
          "name": "stdout",
          "text": [
            "Overwriting PB302_1.cpp\n"
          ]
        }
      ]
    },
    {
      "cell_type": "code",
      "source": [
        "!g++ PB302_1.cpp -o PB302_1.exe\n",
        "!./PB302_1.exe"
      ],
      "metadata": {
        "colab": {
          "base_uri": "https://localhost:8080/"
        },
        "id": "B8pgsVFuAPi_",
        "outputId": "303dac49-42e3-4720-9120-2cb1c9990f0d"
      },
      "execution_count": null,
      "outputs": [
        {
          "output_type": "stream",
          "name": "stdout",
          "text": [
            "Bienvenida Danna a Peogramación Basica en c++\n",
            "Gracias por Programar en clase"
          ]
        }
      ]
    },
    {
      "cell_type": "code",
      "source": [],
      "metadata": {
        "id": "TT2gdF9xAJDL"
      },
      "execution_count": null,
      "outputs": []
    },
    {
      "cell_type": "markdown",
      "source": [
        "PB302_2.cpp Programa para imprimir datos personales"
      ],
      "metadata": {
        "id": "RJUe8An8q59K"
      }
    },
    {
      "cell_type": "code",
      "execution_count": null,
      "metadata": {
        "colab": {
          "base_uri": "https://localhost:8080/"
        },
        "id": "zO0C4QVXqlxO",
        "outputId": "0fedd02e-43f9-41ce-b85e-861b80370348"
      },
      "outputs": [
        {
          "output_type": "stream",
          "name": "stdout",
          "text": [
            "Overwriting PB302_2.cpp\n"
          ]
        }
      ],
      "source": [
        "%%writefile PB302_2.cpp\n",
        "//Programa para Mostrar datos personales\n",
        "//Creado por Danna Bonilla Lopez Danna\n",
        "//Fecha:18/Septiembre/2025\n",
        "//PB302_2.cpp\n",
        "#include <iostream>\n",
        "using namespace std;\n",
        "int main()\n",
        "{\n",
        "  char nombre[10]=\"Danna\";\n",
        "  char paterno[8]=\"Bonilla\";\n",
        "  char materno[8]=\"López\";\n",
        "  int edad=15;\n",
        "  char direccion[50]=\"Plutarco Elias Calles\";\n",
        "  char fechanac[20]=\"30/Diciembre/2009\";\n",
        "  char ciudadnac[20]=\"cd. Juarez\";\n",
        "  cout<<\"Tu Nombre Completo es:\\n\";\n",
        "  cout<<nombre<<\"\\n\";\n",
        "  cout<<paterno<<\"\\n\";\n",
        "  cout<<materno<<\"\\n\";\n",
        "  cout<<edad<<\"\\n\";\n",
        "  cout<<direccion<<\"\\n\";\n",
        "  cout<<fechanac<<\"\\n\";\n",
        "  cout<<ciudadnac<<\"\\n\";\n",
        "  return 0;\n",
        "}"
      ]
    },
    {
      "cell_type": "code",
      "source": [
        "!g++ PB302_2.cpp -o PB302_2.exe\n",
        "!./PB302_2.exe"
      ],
      "metadata": {
        "colab": {
          "base_uri": "https://localhost:8080/"
        },
        "id": "DQj2HDGGwlEx",
        "outputId": "40857b49-f87e-40d7-9d0e-b04fec8a5d57"
      },
      "execution_count": null,
      "outputs": [
        {
          "output_type": "stream",
          "name": "stdout",
          "text": [
            "Tu Nombre Completo es:\n",
            "Danna\n",
            "Bonilla\n",
            "López\n",
            "15\n",
            "Plutarco Elias Calles\n",
            "30/Diciembre/2009\n",
            "cd. Juarez\n"
          ]
        }
      ]
    },
    {
      "cell_type": "markdown",
      "source": [
        "PB302_2.CPP programa para imprimir 3 expectativas de clase"
      ],
      "metadata": {
        "id": "YRtjTruuai3n"
      }
    },
    {
      "cell_type": "code",
      "source": [
        "%%writefile PB302_3.cpp\n",
        "//Programa para Mostrar Expectativas de Clase\n",
        "//Creado por Danna Bonilla Lopez Danna\n",
        "//Fecha:19/Septiembre/2025\n",
        "//PB302_3.cpp\n",
        "#include <iostream>\n",
        "using namespace std;\n",
        "int main()\n",
        "{\n",
        "const std::string RED = \"\\033[31m\";\n",
        "const std::string GREEN = \"\\033[32m\";\n",
        "const std::string YELLOW= \"\\033[33m\";\n",
        "const std::string BLUE= \"\\033[34m\";\n",
        "const std::string MAGENTA= \"\\033[35m\";\n",
        "const std::string CYAN= \"\\033[36m\";\n",
        "const std::string WHITE= \"\\033[37m\";\n",
        "const std::string UNDERLINE= \"\\033[4m\";\n",
        "const std::string RESET=\"\\033[0m\";\n",
        "\n",
        "\n",
        "  char expectativa1 [20]=\"Más conocimiento\";\n",
        "  char expectativa2[30]=\"Desarrollar mis habilidades\";\n",
        "  char expectativa3[27]=\"Aprobar mis materias\";\n",
        "\n",
        "cout<<YELLOW<<\"Tus Expectativas son:\\n\";\n",
        "cout<<RED<<expectativa1<<\"\\n\";\n",
        "cout<<MAGENTA<<expectativa2<<\"\\n\";\n",
        "cout<<BLUE<<expectativa3<<\"\\n\";\n",
        "return 0;\n",
        "}"
      ],
      "metadata": {
        "colab": {
          "base_uri": "https://localhost:8080/"
        },
        "id": "JQxCe865Z84f",
        "outputId": "e662e2fe-ccf0-4444-e788-3ff2cd9f13c0"
      },
      "execution_count": null,
      "outputs": [
        {
          "output_type": "stream",
          "name": "stdout",
          "text": [
            "Overwriting PB302_3.cpp\n"
          ]
        }
      ]
    },
    {
      "cell_type": "code",
      "source": [
        "!g++ PB302_3.cpp -o PB302_3.exe\n",
        "!./PB302_3.exe"
      ],
      "metadata": {
        "colab": {
          "base_uri": "https://localhost:8080/"
        },
        "id": "KG9igJmecgkW",
        "outputId": "a5c4e42f-f0e3-46f2-9596-118aac3bba06"
      },
      "execution_count": null,
      "outputs": [
        {
          "output_type": "stream",
          "name": "stdout",
          "text": [
            "\u001b[33mTus Expectativas son:\n",
            "\u001b[31mMás conocimiento\n",
            "\u001b[35mDesarrollar mis habilidades\n",
            "\u001b[34mAprobar mis materias\n"
          ]
        }
      ]
    },
    {
      "cell_type": "markdown",
      "source": [
        "\n",
        "PB302.4.cpp Programa Póster de Vida"
      ],
      "metadata": {
        "id": "9nsRO9tYCHO9"
      }
    },
    {
      "cell_type": "code",
      "source": [
        "%%writefile PB302_4.cpp\n",
        "//Programa para Mostrar Poster de Vida\n",
        "//Creado por Danna Bonilla Lopez Danna\n",
        "//Fecha:19/Septiembre/2025\n",
        "//PB302_.2cpp\n",
        "#include <iostream>\n",
        "using namespace std;\n",
        "int main()\n",
        "{\n",
        "const std::string RED = \"\\033[31m\";\n",
        "const std::string GREEN = \"\\033[32m\";\n",
        "const std::string YELLOW= \"\\033[33m\";\n",
        "const std::string BLUE= \"\\033[34m\";\n",
        "const std::string MAGENTA= \"\\033[35m\";\n",
        "const std::string CYAN= \"\\033[36m\";\n",
        "const std::string WHITE= \"\\033[37m\";\n",
        "const std::string UNDERLINE= \"\\033[4m\";\n",
        "const std::string RESET=\"\\033[0m\";\n",
        "\n",
        "char MIH[50]=\"Mis Habilidades son\";\n",
        "char HA[35]=\"Creatividad y Liderazgo\";\n",
        "char FO[30]=\"Honestidad y Perseverancia\";\n",
        "char DE[50]=\"Impaciencia y Distraccion Facil\";\n",
        "char ME[50]=\"Terminar mis Estudios y Tener una Tienda de Ropa\";\n",
        "char PT[60]=\"jugar voley y Escuchar Musica\";\n",
        "cout<<YELLOW<<MIH<<\"\\n\";\n",
        "cout<<MAGENTA<<HA<<\"\\n\";\n",
        "cout<<BLUE<<FO<<\"\\n\";\n",
        "cout<<RED<<DE<<\"\\n\";\n",
        "cout<<CYAN<<ME<<\"\\n\";\n",
        "cout<<GREEN<<PT<<\"\\n\";\n",
        "return 0;\n",
        "}"
      ],
      "metadata": {
        "colab": {
          "base_uri": "https://localhost:8080/"
        },
        "id": "OOhl_M62CIE1",
        "outputId": "4787ca91-bf41-4a83-c811-21fa7950c035"
      },
      "execution_count": null,
      "outputs": [
        {
          "output_type": "stream",
          "name": "stdout",
          "text": [
            "Writing PB302_4.cpp\n"
          ]
        }
      ]
    },
    {
      "cell_type": "code",
      "source": [
        "!g++ PB302_4.cpp -o PB302_4.exe\n",
        "!./PB302_4.exe"
      ],
      "metadata": {
        "colab": {
          "base_uri": "https://localhost:8080/"
        },
        "id": "eyqIekgoJJCM",
        "outputId": "548b52ed-2805-4753-9f2a-528f231806a1"
      },
      "execution_count": null,
      "outputs": [
        {
          "output_type": "stream",
          "name": "stdout",
          "text": [
            "\u001b[33mMis Habilidades son\n",
            "\u001b[35mCreatividad y Liderazgo\n",
            "\u001b[34mHonestidad y Perseverancia\n",
            "\u001b[31mImpaciencia y Distraccion Facil\n",
            "\u001b[36mTerminar mis Estudios y Tener una Tienda de Ropa\n",
            "\u001b[32mjugar voley y Escuchar Musica\n"
          ]
        }
      ]
    },
    {
      "cell_type": "markdown",
      "source": [
        "PB302_5.cpp Programa Para Calcular Expresiones Aritmeticas con Constante"
      ],
      "metadata": {
        "id": "ji2k86sUoDe1"
      }
    },
    {
      "cell_type": "code",
      "source": [
        "%%writefile PB302_5.cpp\n",
        "//Programa para calcular expresiones aritmeticas\n",
        "//Creado por Danna Bonilla Lopez Danna\n",
        "//Fecha:22/Septiembre/2025\n",
        "//PB302_.3cpp\n",
        "#include <iostream>\n",
        "using namespace std;\n",
        "int main()\n",
        "{\n",
        "  int x=2;\n",
        "  int y=3;\n",
        "  int z=4;\n",
        "cout<<\"cálculo de Expresiones Aritméticas\";\n",
        "cout<<\"Expresión 1: x+y+z=\"<<x+y+z<<\"\\n\";\n",
        "cout<<\"Expresión 2: (x*y)+(x*z)=\"<<(x*y)+(x*z)<<\"\\n\";\n",
        "cout<<\"Expresión 3: (x+x)+(y+y)+(z+z=)\"<<(x+x)+(y+y)+(z+z)<<\"\\n\";\n",
        "cout<<\"Expresión 4: (x*y*z) +z=\"<<(x*y*z) +z<<\"\\n\";\n",
        "cout<<\"Expresión 5: (x+x+x) * (z*y )/y=\"<<(x+x+x) * (z*y )/y<<\"\\n\";\n",
        "cout<<\"Expresión 6: (x+z)-y=\"<<(x+z)-y<<\"\\n\";\n",
        "cout<<\"Expresión 7: ((z*z)+z)*x=\"<<((z*z)+z)*x<<\"\\n\";\n",
        "cout<<\"Expresión 8: x² +y² +z²=\"<<(x*x)+(y*y)+(z*z)<<\"\\n\";\n",
        "cout<<\"Expresión 9: (x³ * y³) / z=\"<<(x+x+x * y+y+y)/z<<\"\\n\";\n",
        "cout<<\"Expresión 10: ( (x³+z²) / y)+ ((y²+z³) / x=\"<<(((x*x*x)+(z*z))/y+((y*y)+(z*z*z))/x)<<\"\\n\";\n",
        "\n",
        "}\n"
      ],
      "metadata": {
        "colab": {
          "base_uri": "https://localhost:8080/"
        },
        "id": "RdNASGJwoDvd",
        "outputId": "f2e98653-ff92-487e-cc71-db19ec5617e0"
      },
      "execution_count": 13,
      "outputs": [
        {
          "output_type": "stream",
          "name": "stdout",
          "text": [
            "Overwriting PB302_5.cpp\n"
          ]
        }
      ]
    },
    {
      "cell_type": "code",
      "source": [
        "!g++ PB302_5.cpp -o PB302_5.exe\n",
        "!./PB302_5.exe"
      ],
      "metadata": {
        "colab": {
          "base_uri": "https://localhost:8080/"
        },
        "id": "Dv8qyNXpw1fY",
        "outputId": "3ca20eef-f1b2-40fb-f9e3-44340a7159bd"
      },
      "execution_count": 14,
      "outputs": [
        {
          "output_type": "stream",
          "name": "stdout",
          "text": [
            "cálculo de Expresiones AritméticasExpresión 1: x+y+z=9\n",
            "Expresión 2: (x*y)+(x*z)=14\n",
            "Expresión 3: (x+x)+(y+y)+(z+z=)18\n",
            "Expresión 4: (x*y*z) +z=28\n",
            "Expresión 5: (x+x+x) * (z*y )/y=24\n",
            "Expresión 6: (x+z)-y=3\n",
            "Expresión 7: ((z*z)+z)*x=40\n",
            "Expresión 8: x² +y² +z²=29\n",
            "Expresión 9: (x³ * y³) / z=4\n",
            "Expresión 10: ( (x³+z²) / y)+ ((y²+z³) / x=44\n"
          ]
        }
      ]
    },
    {
      "cell_type": "markdown",
      "source": [
        "!g++ PB302_5.cpp -o PB302_5.exe\n",
        "!./PB302_5.exe"
      ],
      "metadata": {
        "id": "bb2s1Rh1wtUB"
      }
    }
  ]
}